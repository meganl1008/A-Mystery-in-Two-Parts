{
 "cells": [
  {
   "cell_type": "code",
   "execution_count": null,
   "metadata": {},
   "outputs": [],
   "source": [
    "CREATE TABLE employees(\n",
    "\temp_no INT NOT NULL,\n",
    "\tbirth_day DATE NOT NULL,\n",
    "\tfirst_name VARCHAR(14) NOT NULL,\n",
    "\tlast_name VARCHAR(16) NOT NULL,\n",
    "\tgender VARCHAR(1) NOT NULL,\n",
    "\thire_date DATE NOT NULL,\n",
    "\tPRIMARY KEY(emp_no)\n",
    ");\n",
    "\n",
    "CREATE TABLE departments (\n",
    "\tdept_no VARCHAR(4) NOT NULL,\n",
    "\tdept_name VARCHAR(40) NOT NULL,\n",
    "\tPRIMARY KEY (dept_no),\n",
    "\tUNIQUE (dept_name)\n",
    ");\n",
    "\n",
    "CREATE TABLE dept_manager(\n",
    "\tdept_no VARCHAR(4) NOT NULL,\n",
    "\temp_no INT NOT NULL, \n",
    "\tfrom_date DATE NOT NULL,\n",
    "\tto_date DATE NOT NULL,\n",
    "\tFOREIGN KEY (emp_no) REFERENCES employees(emp_no),\n",
    "\tFOREIGN KEY (dept_no) REFERENCES departments(dept_no),\n",
    "\tPRIMARY KEY (emp_no, dept_no)\n",
    "); \n",
    "\n",
    "CREATE TABLE dept_emp(\n",
    "\temp_no INT NOT NULL,\n",
    "\tdept_no VARCHAR(4) NOT NULL,\n",
    "\tfrom_date DATE NOT NULL,\n",
    "\tto_date DATE NOT NULL,\n",
    "\tFOREIGN KEY (emp_no) REFERENCES employees(emp_no),\n",
    "\tFOREIGN KEY (dept_no) REFERENCES departments(dept_no),\n",
    "\tPRIMARY KEY (emp_no, dept_no)\n",
    "); \n",
    "\n",
    "CREATE TABLE titles(\n",
    "\temp_no INT NOT NULL,\n",
    "\ttitle VARCHAR(50) NOT NULL,\n",
    "\tfrom_date DATE NOT NULL,\n",
    "\tto_date DATE,\n",
    "\tFOREIGN KEY (emp_no) REFERENCES employees(emp_no),\n",
    "\tPRIMARY KEY (emp_no, title, from_date)\n",
    ");\n",
    "\n",
    "CREATE TABLE salaries (\n",
    "\temp_no INT NOT NULL, \n",
    "\tsalary INT NOT NULL, \n",
    "\tfrom_date DATE NOT NULL,\n",
    "\tto_date DATE NOT NULL,\n",
    "\tFOREIGN KEY(emp_no) REFERENCES employees (emp_no), \n",
    "\tPRIMARY KEY(emp_no, from_date)\n",
    ");"
   ]
  }
 ],
 "metadata": {
  "kernelspec": {
   "display_name": "Python 3",
   "language": "python",
   "name": "python3"
  },
  "language_info": {
   "codemirror_mode": {
    "name": "ipython",
    "version": 3
   },
   "file_extension": ".py",
   "mimetype": "text/x-python",
   "name": "python",
   "nbconvert_exporter": "python",
   "pygments_lexer": "ipython3",
   "version": "3.7.4"
  }
 },
 "nbformat": 4,
 "nbformat_minor": 2
}
